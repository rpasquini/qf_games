{
  "nbformat": 4,
  "nbformat_minor": 0,
  "metadata": {
    "colab": {
      "name": "QF with limited funds example.ipynb",
      "provenance": [],
      "collapsed_sections": []
    },
    "kernelspec": {
      "name": "python3",
      "display_name": "Python 3"
    },
    "language_info": {
      "name": "python"
    }
  },
  "cells": [
    {
      "cell_type": "markdown",
      "source": [
        "# Implements a 2 x 2 Quadratic Funding Game Example with discrete contributions\n",
        "2 contributors and 2 projects"
      ],
      "metadata": {
        "id": "6vVyDIUwc1BW"
      }
    },
    {
      "cell_type": "code",
      "execution_count": 1,
      "metadata": {
        "id": "IcmVg-riPr7P"
      },
      "outputs": [],
      "source": [
        "import pandas as pd"
      ]
    },
    {
      "cell_type": "code",
      "source": [
        "def qf(contributions):\n",
        "  '''contributions: list of contributions'''\n",
        "  return sum([c**0.5 for c in contributions])**2\n",
        "\n",
        "def match(targetqflist, D):\n",
        "  '''\n",
        "  targetqflist: list of targetqfs, ordered by the project\n",
        "  D: donor funds'''\n",
        "  totalrequiredfunds=sum(targetqflist)\n",
        "  if totalrequiredfunds<=D:\n",
        "    return targetqflist\n",
        "  else:\n",
        "    return [round((qf/totalrequiredfunds)*D,2) for qf in targetqflist]\n",
        "\n"
      ],
      "metadata": {
        "id": "_6UNFa5vQ56B"
      },
      "execution_count": 2,
      "outputs": []
    },
    {
      "cell_type": "code",
      "source": [
        "def matchesfromcontributions(agentscontributions,D):\n",
        "  '''\n",
        "  agentscontributions is a list of contributions [{'A':10,'B':20},{'A':0,'B':5}]\n",
        "  '''\n",
        "  contributionstoA=[c['A'] for c in agentscontributions] #contributions to project A\n",
        "  contributionstoB=[c['B'] for c in agentscontributions] #contributions to project B\n",
        "  targetqftoA=qf(contributionstoA)\n",
        "  targetqftoB=qf(contributionstoB)\n",
        "  return match([targetqftoA,targetqftoB],D)\n",
        "\n",
        "\n"
      ],
      "metadata": {
        "id": "6nEotO-YRGv4"
      },
      "execution_count": 3,
      "outputs": []
    },
    {
      "cell_type": "code",
      "source": [
        "def U1A(fa):\n",
        "  return 4*(fa**0.5)\n",
        "def U1B(fb):\n",
        "  return 2*(fb**0.5)\n",
        "\n",
        "def U2A(fa):\n",
        "  return 2*(fa**0.5)\n",
        "def U2B(fb):\n",
        "  return 4*(fb**0.5)\n",
        "\n",
        "def utilities(agentscontributions,D):\n",
        "  flist=matchesfromcontributions(agentscontributions,D)\n",
        "  c1=agentscontributions[0]\n",
        "  c2=agentscontributions[1]\n",
        "  utility1=U1A(flist[0])+U1B(flist[1])-(c1['A']+c1['B'])\n",
        "  utility2=U2A(flist[0])+U2B(flist[1])-(c2['A']+c2['B'])\n",
        "  #return {1:utility1,2:utility2}\n",
        "  return (round(utility1,2),round(utility2,2))\n",
        "\n",
        "\n"
      ],
      "metadata": {
        "id": "q90WfhXDQ2uL"
      },
      "execution_count": 4,
      "outputs": []
    },
    {
      "cell_type": "code",
      "source": [
        "c1={'A':1,'B':2}\n",
        "c2={'A':100,'B':100}\n",
        "print(matchesfromcontributions([c1,c2],100))\n",
        "#print(utilities([c1,c2],100))\n",
        "utilities([c1,c2],100)\n"
      ],
      "metadata": {
        "colab": {
          "base_uri": "https://localhost:8080/"
        },
        "id": "OIPN2jiybT_C",
        "outputId": "53f32c34-ec30-4150-8624-948b7bb7693e"
      },
      "execution_count": 5,
      "outputs": [
        {
          "output_type": "stream",
          "name": "stdout",
          "text": [
            "[48.15, 51.85]\n"
          ]
        },
        {
          "output_type": "execute_result",
          "data": {
            "text/plain": [
              "(39.16, -157.32)"
            ]
          },
          "metadata": {},
          "execution_count": 5
        }
      ]
    },
    {
      "cell_type": "code",
      "source": [
        "strategies1=[]\n",
        "strategies2=[]\n",
        "for i in [0,1,4]:\n",
        "  for j in [0,1,4]:\n",
        "    #print(i,j)\n",
        "    strategies1.append({'A':i,'B':j})\n",
        "    strategies2.append({'A':i,'B':j})\n",
        "strategies1\n",
        "strategies2"
      ],
      "metadata": {
        "colab": {
          "base_uri": "https://localhost:8080/"
        },
        "id": "7GlVSZl9fR-E",
        "outputId": "7fa76f42-9681-43b6-dcef-03af03c98b43"
      },
      "execution_count": 6,
      "outputs": [
        {
          "output_type": "execute_result",
          "data": {
            "text/plain": [
              "[{'A': 0, 'B': 0},\n",
              " {'A': 0, 'B': 1},\n",
              " {'A': 0, 'B': 4},\n",
              " {'A': 1, 'B': 0},\n",
              " {'A': 1, 'B': 1},\n",
              " {'A': 1, 'B': 4},\n",
              " {'A': 4, 'B': 0},\n",
              " {'A': 4, 'B': 1},\n",
              " {'A': 4, 'B': 4}]"
            ]
          },
          "metadata": {},
          "execution_count": 6
        }
      ]
    },
    {
      "cell_type": "code",
      "source": [
        "strategies1"
      ],
      "metadata": {
        "colab": {
          "base_uri": "https://localhost:8080/"
        },
        "id": "wB6cS7qVrhJZ",
        "outputId": "950ba6dc-af3f-453d-aa3e-fcbd1ef1d445"
      },
      "execution_count": 7,
      "outputs": [
        {
          "output_type": "execute_result",
          "data": {
            "text/plain": [
              "[{'A': 0, 'B': 0},\n",
              " {'A': 0, 'B': 1},\n",
              " {'A': 0, 'B': 4},\n",
              " {'A': 1, 'B': 0},\n",
              " {'A': 1, 'B': 1},\n",
              " {'A': 1, 'B': 4},\n",
              " {'A': 4, 'B': 0},\n",
              " {'A': 4, 'B': 1},\n",
              " {'A': 4, 'B': 4}]"
            ]
          },
          "metadata": {},
          "execution_count": 7
        }
      ]
    },
    {
      "cell_type": "markdown",
      "source": [
        "# Payoffs (utility - costs)"
      ],
      "metadata": {
        "id": "kKfPiEWaEPIZ"
      }
    },
    {
      "cell_type": "code",
      "source": [
        "#each key in the dict is an s2 strategy\n",
        "#each value is the corresponding list of utilities both get (for each s1 strategy) \n",
        "d={str(s2): [utilities([s1,s2],8) for s1 in strategies1] for s2 in strategies2}\n",
        "df = pd.DataFrame(data=d, index=strategies1)\n",
        "print('Payoff Matrix')\n",
        "df\n"
      ],
      "metadata": {
        "colab": {
          "base_uri": "https://localhost:8080/",
          "height": 349
        },
        "id": "daLRqUlmq3I3",
        "outputId": "c0255725-1d99-47b3-c0d5-fdfc113e9221"
      },
      "execution_count": 8,
      "outputs": [
        {
          "output_type": "stream",
          "name": "stdout",
          "text": [
            "Payoff Matrix\n"
          ]
        },
        {
          "output_type": "execute_result",
          "data": {
            "text/plain": [
              "                 {'A': 0, 'B': 0} {'A': 0, 'B': 1} {'A': 0, 'B': 4}  \\\n",
              "{'A': 0, 'B': 0}       (0.0, 0.0)       (2.0, 3.0)       (4.0, 4.0)   \n",
              "{'A': 0, 'B': 1}       (1.0, 4.0)       (3.0, 7.0)     (4.66, 7.31)   \n",
              "{'A': 0, 'B': 4}       (0.0, 8.0)    (1.66, 10.31)     (1.66, 7.31)   \n",
              "{'A': 1, 'B': 0}       (3.0, 2.0)       (5.0, 5.0)       (7.0, 6.0)   \n",
              "{'A': 1, 'B': 1}       (4.0, 6.0)       (6.0, 9.0)     (6.94, 8.52)   \n",
              "{'A': 1, 'B': 4}      (3.0, 10.0)    (3.94, 11.52)     (3.23, 8.35)   \n",
              "{'A': 4, 'B': 0}       (4.0, 4.0)       (6.0, 7.0)       (8.0, 8.0)   \n",
              "{'A': 4, 'B': 1}       (5.0, 8.0)      (7.0, 11.0)     (5.98, 8.55)   \n",
              "{'A': 4, 'B': 4}      (4.0, 12.0)    (2.98, 11.55)     (2.12, 8.65)   \n",
              "\n",
              "                 {'A': 1, 'B': 0} {'A': 1, 'B': 1} {'A': 1, 'B': 4}  \\\n",
              "{'A': 0, 'B': 0}       (4.0, 1.0)       (6.0, 4.0)       (8.0, 5.0)   \n",
              "{'A': 0, 'B': 1}       (5.0, 5.0)       (7.0, 8.0)     (7.94, 7.52)   \n",
              "{'A': 0, 'B': 4}       (4.0, 9.0)    (4.94, 10.52)     (4.23, 7.35)   \n",
              "{'A': 1, 'B': 0}       (7.0, 3.0)       (9.0, 6.0)      (11.0, 7.0)   \n",
              "{'A': 1, 'B': 1}       (8.0, 7.0)     (10.0, 10.0)     (8.98, 7.55)   \n",
              "{'A': 1, 'B': 4}      (7.0, 11.0)    (5.98, 10.55)     (5.12, 7.65)   \n",
              "{'A': 4, 'B': 0}     (7.31, 4.66)     (8.52, 6.94)     (8.55, 5.98)   \n",
              "{'A': 4, 'B': 1}     (7.52, 7.94)     (7.55, 8.98)       (7.0, 7.0)   \n",
              "{'A': 4, 'B': 4}     (4.55, 9.98)      (4.0, 10.0)     (3.31, 7.45)   \n",
              "\n",
              "                 {'A': 4, 'B': 0} {'A': 4, 'B': 1} {'A': 4, 'B': 4}  \n",
              "{'A': 0, 'B': 0}       (8.0, 0.0)      (10.0, 3.0)      (12.0, 4.0)  \n",
              "{'A': 0, 'B': 1}       (9.0, 4.0)      (11.0, 7.0)     (9.98, 4.55)  \n",
              "{'A': 0, 'B': 4}       (8.0, 8.0)     (6.98, 7.55)     (6.12, 4.65)  \n",
              "{'A': 1, 'B': 0}    (10.31, 1.66)    (11.52, 3.94)    (11.55, 2.98)  \n",
              "{'A': 1, 'B': 1}    (10.52, 4.94)    (10.55, 5.98)      (10.0, 4.0)  \n",
              "{'A': 1, 'B': 4}     (7.55, 6.98)       (7.0, 7.0)     (6.31, 4.45)  \n",
              "{'A': 4, 'B': 0}     (7.31, 1.66)     (8.35, 3.23)     (8.65, 2.12)  \n",
              "{'A': 4, 'B': 1}     (7.35, 4.23)     (7.65, 5.12)     (7.45, 3.31)  \n",
              "{'A': 4, 'B': 4}     (4.65, 6.12)     (4.45, 6.31)       (4.0, 4.0)  "
            ],
            "text/html": [
              "\n",
              "  <div id=\"df-af5ec136-c8b1-451f-9f38-f9ed62147a6b\">\n",
              "    <div class=\"colab-df-container\">\n",
              "      <div>\n",
              "<style scoped>\n",
              "    .dataframe tbody tr th:only-of-type {\n",
              "        vertical-align: middle;\n",
              "    }\n",
              "\n",
              "    .dataframe tbody tr th {\n",
              "        vertical-align: top;\n",
              "    }\n",
              "\n",
              "    .dataframe thead th {\n",
              "        text-align: right;\n",
              "    }\n",
              "</style>\n",
              "<table border=\"1\" class=\"dataframe\">\n",
              "  <thead>\n",
              "    <tr style=\"text-align: right;\">\n",
              "      <th></th>\n",
              "      <th>{'A': 0, 'B': 0}</th>\n",
              "      <th>{'A': 0, 'B': 1}</th>\n",
              "      <th>{'A': 0, 'B': 4}</th>\n",
              "      <th>{'A': 1, 'B': 0}</th>\n",
              "      <th>{'A': 1, 'B': 1}</th>\n",
              "      <th>{'A': 1, 'B': 4}</th>\n",
              "      <th>{'A': 4, 'B': 0}</th>\n",
              "      <th>{'A': 4, 'B': 1}</th>\n",
              "      <th>{'A': 4, 'B': 4}</th>\n",
              "    </tr>\n",
              "  </thead>\n",
              "  <tbody>\n",
              "    <tr>\n",
              "      <th>{'A': 0, 'B': 0}</th>\n",
              "      <td>(0.0, 0.0)</td>\n",
              "      <td>(2.0, 3.0)</td>\n",
              "      <td>(4.0, 4.0)</td>\n",
              "      <td>(4.0, 1.0)</td>\n",
              "      <td>(6.0, 4.0)</td>\n",
              "      <td>(8.0, 5.0)</td>\n",
              "      <td>(8.0, 0.0)</td>\n",
              "      <td>(10.0, 3.0)</td>\n",
              "      <td>(12.0, 4.0)</td>\n",
              "    </tr>\n",
              "    <tr>\n",
              "      <th>{'A': 0, 'B': 1}</th>\n",
              "      <td>(1.0, 4.0)</td>\n",
              "      <td>(3.0, 7.0)</td>\n",
              "      <td>(4.66, 7.31)</td>\n",
              "      <td>(5.0, 5.0)</td>\n",
              "      <td>(7.0, 8.0)</td>\n",
              "      <td>(7.94, 7.52)</td>\n",
              "      <td>(9.0, 4.0)</td>\n",
              "      <td>(11.0, 7.0)</td>\n",
              "      <td>(9.98, 4.55)</td>\n",
              "    </tr>\n",
              "    <tr>\n",
              "      <th>{'A': 0, 'B': 4}</th>\n",
              "      <td>(0.0, 8.0)</td>\n",
              "      <td>(1.66, 10.31)</td>\n",
              "      <td>(1.66, 7.31)</td>\n",
              "      <td>(4.0, 9.0)</td>\n",
              "      <td>(4.94, 10.52)</td>\n",
              "      <td>(4.23, 7.35)</td>\n",
              "      <td>(8.0, 8.0)</td>\n",
              "      <td>(6.98, 7.55)</td>\n",
              "      <td>(6.12, 4.65)</td>\n",
              "    </tr>\n",
              "    <tr>\n",
              "      <th>{'A': 1, 'B': 0}</th>\n",
              "      <td>(3.0, 2.0)</td>\n",
              "      <td>(5.0, 5.0)</td>\n",
              "      <td>(7.0, 6.0)</td>\n",
              "      <td>(7.0, 3.0)</td>\n",
              "      <td>(9.0, 6.0)</td>\n",
              "      <td>(11.0, 7.0)</td>\n",
              "      <td>(10.31, 1.66)</td>\n",
              "      <td>(11.52, 3.94)</td>\n",
              "      <td>(11.55, 2.98)</td>\n",
              "    </tr>\n",
              "    <tr>\n",
              "      <th>{'A': 1, 'B': 1}</th>\n",
              "      <td>(4.0, 6.0)</td>\n",
              "      <td>(6.0, 9.0)</td>\n",
              "      <td>(6.94, 8.52)</td>\n",
              "      <td>(8.0, 7.0)</td>\n",
              "      <td>(10.0, 10.0)</td>\n",
              "      <td>(8.98, 7.55)</td>\n",
              "      <td>(10.52, 4.94)</td>\n",
              "      <td>(10.55, 5.98)</td>\n",
              "      <td>(10.0, 4.0)</td>\n",
              "    </tr>\n",
              "    <tr>\n",
              "      <th>{'A': 1, 'B': 4}</th>\n",
              "      <td>(3.0, 10.0)</td>\n",
              "      <td>(3.94, 11.52)</td>\n",
              "      <td>(3.23, 8.35)</td>\n",
              "      <td>(7.0, 11.0)</td>\n",
              "      <td>(5.98, 10.55)</td>\n",
              "      <td>(5.12, 7.65)</td>\n",
              "      <td>(7.55, 6.98)</td>\n",
              "      <td>(7.0, 7.0)</td>\n",
              "      <td>(6.31, 4.45)</td>\n",
              "    </tr>\n",
              "    <tr>\n",
              "      <th>{'A': 4, 'B': 0}</th>\n",
              "      <td>(4.0, 4.0)</td>\n",
              "      <td>(6.0, 7.0)</td>\n",
              "      <td>(8.0, 8.0)</td>\n",
              "      <td>(7.31, 4.66)</td>\n",
              "      <td>(8.52, 6.94)</td>\n",
              "      <td>(8.55, 5.98)</td>\n",
              "      <td>(7.31, 1.66)</td>\n",
              "      <td>(8.35, 3.23)</td>\n",
              "      <td>(8.65, 2.12)</td>\n",
              "    </tr>\n",
              "    <tr>\n",
              "      <th>{'A': 4, 'B': 1}</th>\n",
              "      <td>(5.0, 8.0)</td>\n",
              "      <td>(7.0, 11.0)</td>\n",
              "      <td>(5.98, 8.55)</td>\n",
              "      <td>(7.52, 7.94)</td>\n",
              "      <td>(7.55, 8.98)</td>\n",
              "      <td>(7.0, 7.0)</td>\n",
              "      <td>(7.35, 4.23)</td>\n",
              "      <td>(7.65, 5.12)</td>\n",
              "      <td>(7.45, 3.31)</td>\n",
              "    </tr>\n",
              "    <tr>\n",
              "      <th>{'A': 4, 'B': 4}</th>\n",
              "      <td>(4.0, 12.0)</td>\n",
              "      <td>(2.98, 11.55)</td>\n",
              "      <td>(2.12, 8.65)</td>\n",
              "      <td>(4.55, 9.98)</td>\n",
              "      <td>(4.0, 10.0)</td>\n",
              "      <td>(3.31, 7.45)</td>\n",
              "      <td>(4.65, 6.12)</td>\n",
              "      <td>(4.45, 6.31)</td>\n",
              "      <td>(4.0, 4.0)</td>\n",
              "    </tr>\n",
              "  </tbody>\n",
              "</table>\n",
              "</div>\n",
              "      <button class=\"colab-df-convert\" onclick=\"convertToInteractive('df-af5ec136-c8b1-451f-9f38-f9ed62147a6b')\"\n",
              "              title=\"Convert this dataframe to an interactive table.\"\n",
              "              style=\"display:none;\">\n",
              "        \n",
              "  <svg xmlns=\"http://www.w3.org/2000/svg\" height=\"24px\"viewBox=\"0 0 24 24\"\n",
              "       width=\"24px\">\n",
              "    <path d=\"M0 0h24v24H0V0z\" fill=\"none\"/>\n",
              "    <path d=\"M18.56 5.44l.94 2.06.94-2.06 2.06-.94-2.06-.94-.94-2.06-.94 2.06-2.06.94zm-11 1L8.5 8.5l.94-2.06 2.06-.94-2.06-.94L8.5 2.5l-.94 2.06-2.06.94zm10 10l.94 2.06.94-2.06 2.06-.94-2.06-.94-.94-2.06-.94 2.06-2.06.94z\"/><path d=\"M17.41 7.96l-1.37-1.37c-.4-.4-.92-.59-1.43-.59-.52 0-1.04.2-1.43.59L10.3 9.45l-7.72 7.72c-.78.78-.78 2.05 0 2.83L4 21.41c.39.39.9.59 1.41.59.51 0 1.02-.2 1.41-.59l7.78-7.78 2.81-2.81c.8-.78.8-2.07 0-2.86zM5.41 20L4 18.59l7.72-7.72 1.47 1.35L5.41 20z\"/>\n",
              "  </svg>\n",
              "      </button>\n",
              "      \n",
              "  <style>\n",
              "    .colab-df-container {\n",
              "      display:flex;\n",
              "      flex-wrap:wrap;\n",
              "      gap: 12px;\n",
              "    }\n",
              "\n",
              "    .colab-df-convert {\n",
              "      background-color: #E8F0FE;\n",
              "      border: none;\n",
              "      border-radius: 50%;\n",
              "      cursor: pointer;\n",
              "      display: none;\n",
              "      fill: #1967D2;\n",
              "      height: 32px;\n",
              "      padding: 0 0 0 0;\n",
              "      width: 32px;\n",
              "    }\n",
              "\n",
              "    .colab-df-convert:hover {\n",
              "      background-color: #E2EBFA;\n",
              "      box-shadow: 0px 1px 2px rgba(60, 64, 67, 0.3), 0px 1px 3px 1px rgba(60, 64, 67, 0.15);\n",
              "      fill: #174EA6;\n",
              "    }\n",
              "\n",
              "    [theme=dark] .colab-df-convert {\n",
              "      background-color: #3B4455;\n",
              "      fill: #D2E3FC;\n",
              "    }\n",
              "\n",
              "    [theme=dark] .colab-df-convert:hover {\n",
              "      background-color: #434B5C;\n",
              "      box-shadow: 0px 1px 3px 1px rgba(0, 0, 0, 0.15);\n",
              "      filter: drop-shadow(0px 1px 2px rgba(0, 0, 0, 0.3));\n",
              "      fill: #FFFFFF;\n",
              "    }\n",
              "  </style>\n",
              "\n",
              "      <script>\n",
              "        const buttonEl =\n",
              "          document.querySelector('#df-af5ec136-c8b1-451f-9f38-f9ed62147a6b button.colab-df-convert');\n",
              "        buttonEl.style.display =\n",
              "          google.colab.kernel.accessAllowed ? 'block' : 'none';\n",
              "\n",
              "        async function convertToInteractive(key) {\n",
              "          const element = document.querySelector('#df-af5ec136-c8b1-451f-9f38-f9ed62147a6b');\n",
              "          const dataTable =\n",
              "            await google.colab.kernel.invokeFunction('convertToInteractive',\n",
              "                                                     [key], {});\n",
              "          if (!dataTable) return;\n",
              "\n",
              "          const docLinkHtml = 'Like what you see? Visit the ' +\n",
              "            '<a target=\"_blank\" href=https://colab.research.google.com/notebooks/data_table.ipynb>data table notebook</a>'\n",
              "            + ' to learn more about interactive tables.';\n",
              "          element.innerHTML = '';\n",
              "          dataTable['output_type'] = 'display_data';\n",
              "          await google.colab.output.renderOutput(dataTable, element);\n",
              "          const docLink = document.createElement('div');\n",
              "          docLink.innerHTML = docLinkHtml;\n",
              "          element.appendChild(docLink);\n",
              "        }\n",
              "      </script>\n",
              "    </div>\n",
              "  </div>\n",
              "  "
            ]
          },
          "metadata": {},
          "execution_count": 8
        }
      ]
    },
    {
      "cell_type": "code",
      "source": [
        "utilities([{'A': 0, 'B': 1},{'A': 0, 'B': 0}],20)"
      ],
      "metadata": {
        "colab": {
          "base_uri": "https://localhost:8080/"
        },
        "id": "9wihma-RS_Hp",
        "outputId": "4d08ef5c-b3c9-4dff-af02-4aadbef58259"
      },
      "execution_count": 9,
      "outputs": [
        {
          "output_type": "execute_result",
          "data": {
            "text/plain": [
              "(1.0, 4.0)"
            ]
          },
          "metadata": {},
          "execution_count": 9
        }
      ]
    },
    {
      "cell_type": "markdown",
      "source": [
        "# Public good allocations [FA,FB]"
      ],
      "metadata": {
        "id": "nN3YVN-Rfbyc"
      }
    },
    {
      "cell_type": "code",
      "source": [
        "## QF matchs (only for reference)\n",
        "matchesfromcontributions\n",
        "d={str(s2): [matchesfromcontributions([s1,s2],8) for s1 in strategies1] for s2 in strategies2}\n",
        "df = pd.DataFrame(data=d, index=strategies1)\n",
        "print('Public Goods Allocation Matrix [FA,FB]')\n",
        "df"
      ],
      "metadata": {
        "colab": {
          "base_uri": "https://localhost:8080/",
          "height": 349
        },
        "id": "j0yZk2cvEUFU",
        "outputId": "2b2406bc-1789-4a63-bbfc-c723fe74c8e4"
      },
      "execution_count": 10,
      "outputs": [
        {
          "output_type": "stream",
          "name": "stdout",
          "text": [
            "Public Goods Allocation Matrix [FA,FB]\n"
          ]
        },
        {
          "output_type": "execute_result",
          "data": {
            "text/plain": [
              "                 {'A': 0, 'B': 0} {'A': 0, 'B': 1} {'A': 0, 'B': 4}  \\\n",
              "{'A': 0, 'B': 0}       [0.0, 0.0]       [0.0, 1.0]       [0.0, 4.0]   \n",
              "{'A': 0, 'B': 1}       [0.0, 1.0]       [0.0, 4.0]       [0.0, 8.0]   \n",
              "{'A': 0, 'B': 4}       [0.0, 4.0]       [0.0, 8.0]       [0.0, 8.0]   \n",
              "{'A': 1, 'B': 0}       [1.0, 0.0]       [1.0, 1.0]       [1.0, 4.0]   \n",
              "{'A': 1, 'B': 1}       [1.0, 1.0]       [1.0, 4.0]       [0.8, 7.2]   \n",
              "{'A': 1, 'B': 4}       [1.0, 4.0]       [0.8, 7.2]     [0.47, 7.53]   \n",
              "{'A': 4, 'B': 0}       [4.0, 0.0]       [4.0, 1.0]       [4.0, 4.0]   \n",
              "{'A': 4, 'B': 1}       [4.0, 1.0]       [4.0, 4.0]     [2.46, 5.54]   \n",
              "{'A': 4, 'B': 4}       [4.0, 4.0]     [2.46, 5.54]       [1.6, 6.4]   \n",
              "\n",
              "                 {'A': 1, 'B': 0} {'A': 1, 'B': 1} {'A': 1, 'B': 4}  \\\n",
              "{'A': 0, 'B': 0}       [1.0, 0.0]       [1.0, 1.0]       [1.0, 4.0]   \n",
              "{'A': 0, 'B': 1}       [1.0, 1.0]       [1.0, 4.0]       [0.8, 7.2]   \n",
              "{'A': 0, 'B': 4}       [1.0, 4.0]       [0.8, 7.2]     [0.47, 7.53]   \n",
              "{'A': 1, 'B': 0}       [4.0, 0.0]       [4.0, 1.0]       [4.0, 4.0]   \n",
              "{'A': 1, 'B': 1}       [4.0, 1.0]       [4.0, 4.0]     [2.46, 5.54]   \n",
              "{'A': 1, 'B': 4}       [4.0, 4.0]     [2.46, 5.54]       [1.6, 6.4]   \n",
              "{'A': 4, 'B': 0}       [8.0, 0.0]       [7.2, 0.8]     [5.54, 2.46]   \n",
              "{'A': 4, 'B': 1}       [7.2, 0.8]     [5.54, 2.46]       [4.0, 4.0]   \n",
              "{'A': 4, 'B': 4}     [5.54, 2.46]       [4.0, 4.0]     [2.88, 5.12]   \n",
              "\n",
              "                 {'A': 4, 'B': 0} {'A': 4, 'B': 1} {'A': 4, 'B': 4}  \n",
              "{'A': 0, 'B': 0}       [4.0, 0.0]       [4.0, 1.0]       [4.0, 4.0]  \n",
              "{'A': 0, 'B': 1}       [4.0, 1.0]       [4.0, 4.0]     [2.46, 5.54]  \n",
              "{'A': 0, 'B': 4}       [4.0, 4.0]     [2.46, 5.54]       [1.6, 6.4]  \n",
              "{'A': 1, 'B': 0}       [8.0, 0.0]       [7.2, 0.8]     [5.54, 2.46]  \n",
              "{'A': 1, 'B': 1}       [7.2, 0.8]     [5.54, 2.46]       [4.0, 4.0]  \n",
              "{'A': 1, 'B': 4}     [5.54, 2.46]       [4.0, 4.0]     [2.88, 5.12]  \n",
              "{'A': 4, 'B': 0}       [8.0, 0.0]     [7.53, 0.47]       [6.4, 1.6]  \n",
              "{'A': 4, 'B': 1}     [7.53, 0.47]       [6.4, 1.6]     [5.12, 2.88]  \n",
              "{'A': 4, 'B': 4}       [6.4, 1.6]     [5.12, 2.88]       [4.0, 4.0]  "
            ],
            "text/html": [
              "\n",
              "  <div id=\"df-a5c83c4a-47cf-4d90-894c-08aaa1197737\">\n",
              "    <div class=\"colab-df-container\">\n",
              "      <div>\n",
              "<style scoped>\n",
              "    .dataframe tbody tr th:only-of-type {\n",
              "        vertical-align: middle;\n",
              "    }\n",
              "\n",
              "    .dataframe tbody tr th {\n",
              "        vertical-align: top;\n",
              "    }\n",
              "\n",
              "    .dataframe thead th {\n",
              "        text-align: right;\n",
              "    }\n",
              "</style>\n",
              "<table border=\"1\" class=\"dataframe\">\n",
              "  <thead>\n",
              "    <tr style=\"text-align: right;\">\n",
              "      <th></th>\n",
              "      <th>{'A': 0, 'B': 0}</th>\n",
              "      <th>{'A': 0, 'B': 1}</th>\n",
              "      <th>{'A': 0, 'B': 4}</th>\n",
              "      <th>{'A': 1, 'B': 0}</th>\n",
              "      <th>{'A': 1, 'B': 1}</th>\n",
              "      <th>{'A': 1, 'B': 4}</th>\n",
              "      <th>{'A': 4, 'B': 0}</th>\n",
              "      <th>{'A': 4, 'B': 1}</th>\n",
              "      <th>{'A': 4, 'B': 4}</th>\n",
              "    </tr>\n",
              "  </thead>\n",
              "  <tbody>\n",
              "    <tr>\n",
              "      <th>{'A': 0, 'B': 0}</th>\n",
              "      <td>[0.0, 0.0]</td>\n",
              "      <td>[0.0, 1.0]</td>\n",
              "      <td>[0.0, 4.0]</td>\n",
              "      <td>[1.0, 0.0]</td>\n",
              "      <td>[1.0, 1.0]</td>\n",
              "      <td>[1.0, 4.0]</td>\n",
              "      <td>[4.0, 0.0]</td>\n",
              "      <td>[4.0, 1.0]</td>\n",
              "      <td>[4.0, 4.0]</td>\n",
              "    </tr>\n",
              "    <tr>\n",
              "      <th>{'A': 0, 'B': 1}</th>\n",
              "      <td>[0.0, 1.0]</td>\n",
              "      <td>[0.0, 4.0]</td>\n",
              "      <td>[0.0, 8.0]</td>\n",
              "      <td>[1.0, 1.0]</td>\n",
              "      <td>[1.0, 4.0]</td>\n",
              "      <td>[0.8, 7.2]</td>\n",
              "      <td>[4.0, 1.0]</td>\n",
              "      <td>[4.0, 4.0]</td>\n",
              "      <td>[2.46, 5.54]</td>\n",
              "    </tr>\n",
              "    <tr>\n",
              "      <th>{'A': 0, 'B': 4}</th>\n",
              "      <td>[0.0, 4.0]</td>\n",
              "      <td>[0.0, 8.0]</td>\n",
              "      <td>[0.0, 8.0]</td>\n",
              "      <td>[1.0, 4.0]</td>\n",
              "      <td>[0.8, 7.2]</td>\n",
              "      <td>[0.47, 7.53]</td>\n",
              "      <td>[4.0, 4.0]</td>\n",
              "      <td>[2.46, 5.54]</td>\n",
              "      <td>[1.6, 6.4]</td>\n",
              "    </tr>\n",
              "    <tr>\n",
              "      <th>{'A': 1, 'B': 0}</th>\n",
              "      <td>[1.0, 0.0]</td>\n",
              "      <td>[1.0, 1.0]</td>\n",
              "      <td>[1.0, 4.0]</td>\n",
              "      <td>[4.0, 0.0]</td>\n",
              "      <td>[4.0, 1.0]</td>\n",
              "      <td>[4.0, 4.0]</td>\n",
              "      <td>[8.0, 0.0]</td>\n",
              "      <td>[7.2, 0.8]</td>\n",
              "      <td>[5.54, 2.46]</td>\n",
              "    </tr>\n",
              "    <tr>\n",
              "      <th>{'A': 1, 'B': 1}</th>\n",
              "      <td>[1.0, 1.0]</td>\n",
              "      <td>[1.0, 4.0]</td>\n",
              "      <td>[0.8, 7.2]</td>\n",
              "      <td>[4.0, 1.0]</td>\n",
              "      <td>[4.0, 4.0]</td>\n",
              "      <td>[2.46, 5.54]</td>\n",
              "      <td>[7.2, 0.8]</td>\n",
              "      <td>[5.54, 2.46]</td>\n",
              "      <td>[4.0, 4.0]</td>\n",
              "    </tr>\n",
              "    <tr>\n",
              "      <th>{'A': 1, 'B': 4}</th>\n",
              "      <td>[1.0, 4.0]</td>\n",
              "      <td>[0.8, 7.2]</td>\n",
              "      <td>[0.47, 7.53]</td>\n",
              "      <td>[4.0, 4.0]</td>\n",
              "      <td>[2.46, 5.54]</td>\n",
              "      <td>[1.6, 6.4]</td>\n",
              "      <td>[5.54, 2.46]</td>\n",
              "      <td>[4.0, 4.0]</td>\n",
              "      <td>[2.88, 5.12]</td>\n",
              "    </tr>\n",
              "    <tr>\n",
              "      <th>{'A': 4, 'B': 0}</th>\n",
              "      <td>[4.0, 0.0]</td>\n",
              "      <td>[4.0, 1.0]</td>\n",
              "      <td>[4.0, 4.0]</td>\n",
              "      <td>[8.0, 0.0]</td>\n",
              "      <td>[7.2, 0.8]</td>\n",
              "      <td>[5.54, 2.46]</td>\n",
              "      <td>[8.0, 0.0]</td>\n",
              "      <td>[7.53, 0.47]</td>\n",
              "      <td>[6.4, 1.6]</td>\n",
              "    </tr>\n",
              "    <tr>\n",
              "      <th>{'A': 4, 'B': 1}</th>\n",
              "      <td>[4.0, 1.0]</td>\n",
              "      <td>[4.0, 4.0]</td>\n",
              "      <td>[2.46, 5.54]</td>\n",
              "      <td>[7.2, 0.8]</td>\n",
              "      <td>[5.54, 2.46]</td>\n",
              "      <td>[4.0, 4.0]</td>\n",
              "      <td>[7.53, 0.47]</td>\n",
              "      <td>[6.4, 1.6]</td>\n",
              "      <td>[5.12, 2.88]</td>\n",
              "    </tr>\n",
              "    <tr>\n",
              "      <th>{'A': 4, 'B': 4}</th>\n",
              "      <td>[4.0, 4.0]</td>\n",
              "      <td>[2.46, 5.54]</td>\n",
              "      <td>[1.6, 6.4]</td>\n",
              "      <td>[5.54, 2.46]</td>\n",
              "      <td>[4.0, 4.0]</td>\n",
              "      <td>[2.88, 5.12]</td>\n",
              "      <td>[6.4, 1.6]</td>\n",
              "      <td>[5.12, 2.88]</td>\n",
              "      <td>[4.0, 4.0]</td>\n",
              "    </tr>\n",
              "  </tbody>\n",
              "</table>\n",
              "</div>\n",
              "      <button class=\"colab-df-convert\" onclick=\"convertToInteractive('df-a5c83c4a-47cf-4d90-894c-08aaa1197737')\"\n",
              "              title=\"Convert this dataframe to an interactive table.\"\n",
              "              style=\"display:none;\">\n",
              "        \n",
              "  <svg xmlns=\"http://www.w3.org/2000/svg\" height=\"24px\"viewBox=\"0 0 24 24\"\n",
              "       width=\"24px\">\n",
              "    <path d=\"M0 0h24v24H0V0z\" fill=\"none\"/>\n",
              "    <path d=\"M18.56 5.44l.94 2.06.94-2.06 2.06-.94-2.06-.94-.94-2.06-.94 2.06-2.06.94zm-11 1L8.5 8.5l.94-2.06 2.06-.94-2.06-.94L8.5 2.5l-.94 2.06-2.06.94zm10 10l.94 2.06.94-2.06 2.06-.94-2.06-.94-.94-2.06-.94 2.06-2.06.94z\"/><path d=\"M17.41 7.96l-1.37-1.37c-.4-.4-.92-.59-1.43-.59-.52 0-1.04.2-1.43.59L10.3 9.45l-7.72 7.72c-.78.78-.78 2.05 0 2.83L4 21.41c.39.39.9.59 1.41.59.51 0 1.02-.2 1.41-.59l7.78-7.78 2.81-2.81c.8-.78.8-2.07 0-2.86zM5.41 20L4 18.59l7.72-7.72 1.47 1.35L5.41 20z\"/>\n",
              "  </svg>\n",
              "      </button>\n",
              "      \n",
              "  <style>\n",
              "    .colab-df-container {\n",
              "      display:flex;\n",
              "      flex-wrap:wrap;\n",
              "      gap: 12px;\n",
              "    }\n",
              "\n",
              "    .colab-df-convert {\n",
              "      background-color: #E8F0FE;\n",
              "      border: none;\n",
              "      border-radius: 50%;\n",
              "      cursor: pointer;\n",
              "      display: none;\n",
              "      fill: #1967D2;\n",
              "      height: 32px;\n",
              "      padding: 0 0 0 0;\n",
              "      width: 32px;\n",
              "    }\n",
              "\n",
              "    .colab-df-convert:hover {\n",
              "      background-color: #E2EBFA;\n",
              "      box-shadow: 0px 1px 2px rgba(60, 64, 67, 0.3), 0px 1px 3px 1px rgba(60, 64, 67, 0.15);\n",
              "      fill: #174EA6;\n",
              "    }\n",
              "\n",
              "    [theme=dark] .colab-df-convert {\n",
              "      background-color: #3B4455;\n",
              "      fill: #D2E3FC;\n",
              "    }\n",
              "\n",
              "    [theme=dark] .colab-df-convert:hover {\n",
              "      background-color: #434B5C;\n",
              "      box-shadow: 0px 1px 3px 1px rgba(0, 0, 0, 0.15);\n",
              "      filter: drop-shadow(0px 1px 2px rgba(0, 0, 0, 0.3));\n",
              "      fill: #FFFFFF;\n",
              "    }\n",
              "  </style>\n",
              "\n",
              "      <script>\n",
              "        const buttonEl =\n",
              "          document.querySelector('#df-a5c83c4a-47cf-4d90-894c-08aaa1197737 button.colab-df-convert');\n",
              "        buttonEl.style.display =\n",
              "          google.colab.kernel.accessAllowed ? 'block' : 'none';\n",
              "\n",
              "        async function convertToInteractive(key) {\n",
              "          const element = document.querySelector('#df-a5c83c4a-47cf-4d90-894c-08aaa1197737');\n",
              "          const dataTable =\n",
              "            await google.colab.kernel.invokeFunction('convertToInteractive',\n",
              "                                                     [key], {});\n",
              "          if (!dataTable) return;\n",
              "\n",
              "          const docLinkHtml = 'Like what you see? Visit the ' +\n",
              "            '<a target=\"_blank\" href=https://colab.research.google.com/notebooks/data_table.ipynb>data table notebook</a>'\n",
              "            + ' to learn more about interactive tables.';\n",
              "          element.innerHTML = '';\n",
              "          dataTable['output_type'] = 'display_data';\n",
              "          await google.colab.output.renderOutput(dataTable, element);\n",
              "          const docLink = document.createElement('div');\n",
              "          docLink.innerHTML = docLinkHtml;\n",
              "          element.appendChild(docLink);\n",
              "        }\n",
              "      </script>\n",
              "    </div>\n",
              "  </div>\n",
              "  "
            ]
          },
          "metadata": {},
          "execution_count": 10
        }
      ]
    },
    {
      "cell_type": "code",
      "source": [
        ""
      ],
      "metadata": {
        "id": "sE8lRAeY6xjD"
      },
      "execution_count": 10,
      "outputs": []
    },
    {
      "cell_type": "markdown",
      "source": [
        "# Reaction functions analysis"
      ],
      "metadata": {
        "id": "tJDtpi3WHlqI"
      }
    },
    {
      "cell_type": "markdown",
      "source": [
        "Project A:\n",
        "$$ \n",
        "\\frac{\\sum\\sqrt c_i^A}{\\sqrt{c_1^A}}V_1^{'A}(.)-1=0 \\text{ if } F^A+F^B\\leq D\\\\\n",
        "V_1^{'A}(.)- \n",
        "\\sum_{p'=A,B}V_1^{'p'}(.)\\frac{F^{p',\\text{QF}}}{(F^{A,QF}+F^{B,QF})}=\\frac{\\sqrt{c_1^A}}{\\sqrt{c_1^A}+\\sqrt{c_2^A}}\\bigg(\\frac{F^A+F^B}{D}\\bigg) \\text{ if } F^A+F^B>D $$\n",
        "\n",
        "Project B:\n",
        "$$ \n",
        "\\frac{\\sum\\sqrt c_i^B}{\\sqrt{c_1^B}}V_1^{'B}(.)-1=0 \\text{ if } F^A+F^B\\leq D\\\\\n",
        "V_1^{'B}(.)- \n",
        "\\sum_{p'=A,B}V_1^{'p'}(.)\\frac{F^{p',\\text{QF}}}{(F^{A,QF}+F^{B,QF})}=\\frac{\\sqrt{c_1^B}}{\\sqrt{c_1^B}+\\sqrt{c_2^B}}\\bigg(\\frac{F^A+F^B}{D}\\bigg) \\text{ if } F^A+F^B>D$$"
      ],
      "metadata": {
        "id": "2lhYOGBMHvQf"
      }
    },
    {
      "cell_type": "code",
      "source": [
        "@np.vectorize\n",
        "def equationA(c1a,c1b,c2a,c2b,D):\n",
        "\n",
        "  def U1Aprime(fa):\n",
        "    return 2*(fa**-0.5)\n",
        "  def U1Bprime(fb):\n",
        "    return (fb**-0.5)\n",
        "\n",
        "  FA=((c1a**0.5)+(c2a**0.5))**2\n",
        "  FB=((c1b**0.5)+(c2b**0.5))**2\n",
        "  #print(FA)\n",
        "  #print(FB)\n",
        "  \n",
        "  requiredD=FA+FB\n",
        "  #print(requiredD>D)\n",
        "  \n",
        "  if requiredD>D:\n",
        "    fa=D*(FA/(FA+FB))\n",
        "    fb=D*(FB/(FA+FB))\n",
        "    LHS=U1Aprime(fa)-U1Aprime(fa)*(FA/(FA+FB))-U1Bprime(fb)*(FB/(FA+FB))\n",
        "    RHS=((c1a**0.5)/((c1a**0.5)+(c2a**0.5)))*((FA+FB)/D)\n",
        "    return LHS-RHS\n",
        "  else:\n",
        "    fa=FA\n",
        "    fb=FB\n",
        "    LHS=(((c1a**0.5)+(c2a**0.5))/(c1a**0.5))*U1Aprime(fa)\n",
        "    RHS=1\n",
        "    return LHS-RHS\n",
        "\n",
        "@np.vectorize\n",
        "def equationB(c1a,c1b,c2a,c2b,D):\n",
        "\n",
        "  def U1Aprime(fa):\n",
        "    return 2*(fa**-0.5)\n",
        "  def U1Bprime(fb):\n",
        "    return (fb**-0.5)\n",
        "\n",
        "  FA=((c1a**0.5)+(c2a**0.5))**2\n",
        "  FB=((c1b**0.5)+(c2b**0.5))**2\n",
        "  requiredD=FA+FB\n",
        "  if requiredD>D:\n",
        "    fa=D*(FA/(FA+FB))\n",
        "    fb=D*(FB/(FA+FB))\n",
        "\n",
        "    LHS=U1Bprime(fa)-U1Aprime(fa)*(FA/(FA+FB))-U1Bprime(fb)*(FB/(FA+FB))\n",
        "    RHS=((c1b**0.5)/((c1b**0.5)+(c2b**0.5)))*((FA+FB)/D)\n",
        "    return LHS-RHS\n",
        "  else:\n",
        "    fa=FA\n",
        "    fb=FB\n",
        "    LHS=(((c1b**0.5)+(c2b**0.5))/(c1b**0.5))*U1Bprime(fb)\n",
        "    RHS=1\n",
        "    return LHS-RHS\n",
        "  \n",
        "\n",
        "\n"
      ],
      "metadata": {
        "id": "QeKQQJfyNXmJ"
      },
      "execution_count": 60,
      "outputs": []
    },
    {
      "cell_type": "code",
      "source": [
        "import matplotlib.pyplot as plt\n",
        "\n",
        "import numpy as np\n",
        "delta=0.025\n",
        "c1a,c1b=np.meshgrid(np.arange(0.025,4,delta),np.arange(0.025,4,delta))\n",
        "\n",
        "plt.contour(c1a,c1b,equationA(c1a,c1b,0,4,10),[0])\n",
        "plt.contour(c1a,c1b,equationB(c1a,c1b,0,4,10),[0])\n",
        "\n",
        "plt.show()\n"
      ],
      "metadata": {
        "colab": {
          "base_uri": "https://localhost:8080/",
          "height": 265
        },
        "id": "-MvBc6rGUfnh",
        "outputId": "a14ef18a-6bc7-4bbd-b9e5-7628a4033332"
      },
      "execution_count": 98,
      "outputs": [
        {
          "output_type": "display_data",
          "data": {
            "text/plain": [
              "<Figure size 432x288 with 1 Axes>"
            ],
            "image/png": "[encoded data removed]"
          },
          "metadata": {
            "needs_background": "light"
          }
        }
      ]
    },
    {
      "cell_type": "code",
      "source": [
        "utilities([{'A': 4, 'B': 1},{'A': 0, 'B': 1}],8)\n",
        "    "
      ],
      "metadata": {
        "colab": {
          "base_uri": "https://localhost:8080/"
        },
        "id": "fwDVnPE9qzsP",
        "outputId": "d536dda2-71dd-45dd-919d-35c6bc2bb24a"
      },
      "execution_count": 86,
      "outputs": [
        {
          "output_type": "execute_result",
          "data": {
            "text/plain": [
              "(7.0, 11.0)"
            ]
          },
          "metadata": {},
          "execution_count": 86
        }
      ]
    },
    {
      "cell_type": "code",
      "source": [
        "matchesfromcontributions([{'A': 1.5, 'B': 0.4},{'A': 0, 'B': 4}],8)"
      ],
      "metadata": {
        "colab": {
          "base_uri": "https://localhost:8080/"
        },
        "id": "axGcyMsTy6tQ",
        "outputId": "2e9c1515-1b2d-47b3-837f-e2d9054aa043"
      },
      "execution_count": 82,
      "outputs": [
        {
          "output_type": "execute_result",
          "data": {
            "text/plain": [
              "[1.42, 6.58]"
            ]
          },
          "metadata": {},
          "execution_count": 82
        }
      ]
    }
  ]
}